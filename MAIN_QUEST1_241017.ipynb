{
  "nbformat": 4,
  "nbformat_minor": 0,
  "metadata": {
    "colab": {
      "provenance": [],
      "include_colab_link": true
    },
    "kernelspec": {
      "name": "python3",
      "display_name": "Python 3"
    },
    "language_info": {
      "name": "python"
    }
  },
  "cells": [
    {
      "cell_type": "markdown",
      "metadata": {
        "id": "view-in-github",
        "colab_type": "text"
      },
      "source": [
        "<a href=\"https://colab.research.google.com/github/gyumin-k/first-repository/blob/master/MAIN_QUEST1_241017.ipynb\" target=\"_parent\"><img src=\"https://colab.research.google.com/assets/colab-badge.svg\" alt=\"Open In Colab\"/></a>"
      ]
    },
    {
      "cell_type": "code",
      "execution_count": null,
      "metadata": {
        "id": "16gc-Gci8KsL"
      },
      "outputs": [],
      "source": [
        "import random as r # random 모듈 불러오기\n",
        "\n",
        "class Account:\n",
        "  #클래스 속성\n",
        "  bank_name = \"SC은행\"\n",
        "  account_count = 0 # account_count 생성된 계좌 수\n",
        "\n",
        "  def __init__(self, name, start): # name = 예금주, start = 초기 금액\n",
        "    self.name = name\n",
        "    self.balance = start # balance = 잔액\n",
        "    self.account_number = str(r.randint(100,999)) +\"-\" + str(r.randint(10,99)) + \"-\" + str(r.randint(100000,999999))\n",
        "    Account.account_count += 1 # account_number = 계좌번호\n",
        "\n",
        "    self.money_count = 0 # money_count = 입금 횟수\n",
        "    self.deposit_list = [] # deposit_list  = 입금 내역 기록\n",
        "    self.withdraw_list = [] # withdraw_list = 출금 내역 기록\n",
        "\n",
        "\n",
        "\n",
        "  def get_account_num(self):\n",
        "    return self.account_count\n",
        "\n",
        "  def deposit(self, money): # money 입금금액\n",
        "    if money >= 1:\n",
        "      self.balance += money\n",
        "      self.money_count += 1\n",
        "      self.deposit_list.append(money)\n",
        "\n",
        "      if self.money_count == 5:\n",
        "          self.balance = self.balance * 1.01\n",
        "      return self.balance\n",
        "    else:\n",
        "      print('입금은 최소 1원 이상만 가능합니다.')\n",
        "\n",
        "  def withdraw (self, money_output): # money_output 출금금액\n",
        "    if self.balance >= money_output:\n",
        "      self.balance = self.balance - money_output\n",
        "      self.withdraw_list.append(money_output)\n",
        "      return self.balance\n",
        "    else:\n",
        "      print('출금은 계좌의 잔고 이상으로 출금할 수는 없습니다.')\n",
        "\n",
        "  def display_info(self):\n",
        "    return f\"은행이름: {self.bank_name}, 예금주: {self.name}, 계좌번호: {self.account_number},잔고: {self.balance:,}원\"\n",
        "\n",
        "  def deposit_history(self): # deposit_history 입금 내역\n",
        "    for i in self.deposit_list:\n",
        "      print(i)\n",
        "  def withdraw_history(self): # withdraw_history 출금 내역\n",
        "    for i in self.withdraw_list:\n",
        "      print(i)\n",
        "\n",
        "\n",
        "\n",
        "\n",
        "\n"
      ]
    },
    {
      "cell_type": "code",
      "source": [
        "s = Account('김규민',1000000) # q1 q2 확인\n",
        "print(s.get_account_num()) #q3 계좌 개수 출력\n",
        "print(s.deposit(5000)) #q4 입금 후 잔액\n",
        "print(s.withdraw(3000)) #q5 출금 후 잔액\n",
        "print(s.display_info()) # q6 정보 출력"
      ],
      "metadata": {
        "id": "quR2_0pIBBB3",
        "colab": {
          "base_uri": "https://localhost:8080/"
        },
        "outputId": "ace01ca1-a877-4ddf-9562-9b15f59e2329"
      },
      "execution_count": null,
      "outputs": [
        {
          "output_type": "stream",
          "name": "stdout",
          "text": [
            "1\n",
            "1005000\n",
            "1002000\n",
            "은행이름: SC은행, 예금주: 김규민, 계좌번호: 481-85-785383,잔고: 1,002,000원\n"
          ]
        }
      ]
    },
    {
      "cell_type": "code",
      "source": [
        "# q7\n",
        "print(s.deposit(100))\n",
        "print(s.deposit(100))\n",
        "print(s.deposit(100))\n",
        "print(s.deposit(100))\n"
      ],
      "metadata": {
        "colab": {
          "base_uri": "https://localhost:8080/"
        },
        "id": "cgcMAOimZdII",
        "outputId": "380deab4-abbf-4dd8-c3a5-381d4de4873a"
      },
      "execution_count": null,
      "outputs": [
        {
          "output_type": "stream",
          "name": "stdout",
          "text": [
            "1002100\n",
            "1002200\n",
            "1002300\n",
            "1012424.0\n"
          ]
        }
      ]
    },
    {
      "cell_type": "code",
      "source": [
        "# q8\n",
        "ss = Account(\"은현\", 20000)\n",
        "sss = Account(\"정은\", 30000)\n",
        "\n",
        "account_list = []\n",
        "account_list.append(s)\n",
        "account_list.append(ss)\n",
        "account_list.append(sss)\n",
        "\n",
        "list(account_list)"
      ],
      "metadata": {
        "id": "Aqanjav2NcP0",
        "colab": {
          "base_uri": "https://localhost:8080/"
        },
        "outputId": "ec22d8f8-3e65-411c-e0cd-23d8ba539436"
      },
      "execution_count": null,
      "outputs": [
        {
          "output_type": "execute_result",
          "data": {
            "text/plain": [
              "[<__main__.Account at 0x7a0bf33d9f30>,\n",
              " <__main__.Account at 0x7a0bf33daf20>,\n",
              " <__main__.Account at 0x7a0bf33d9ae0>]"
            ]
          },
          "metadata": {},
          "execution_count": 89
        }
      ]
    },
    {
      "cell_type": "code",
      "source": [
        "# q9\n",
        "for i in account_list:\n",
        "  if i.balance >= 1000000:\n",
        "    print(i.name)\n"
      ],
      "metadata": {
        "id": "qdh5_8aHOc5I",
        "colab": {
          "base_uri": "https://localhost:8080/"
        },
        "outputId": "efb9598e-fee5-4680-9358-f2a642b231b5"
      },
      "execution_count": null,
      "outputs": [
        {
          "output_type": "stream",
          "name": "stdout",
          "text": [
            "김규민\n"
          ]
        }
      ]
    },
    {
      "cell_type": "code",
      "source": [
        "# q10\n",
        "s.deposit_history()\n",
        "s.withdraw_history()"
      ],
      "metadata": {
        "colab": {
          "base_uri": "https://localhost:8080/"
        },
        "id": "WMERFgNBWYQ7",
        "outputId": "d3e66c5b-dfe4-4ade-9608-2bec3c93a4da"
      },
      "execution_count": null,
      "outputs": [
        {
          "output_type": "stream",
          "name": "stdout",
          "text": [
            "5000\n",
            "100\n",
            "100\n",
            "100\n",
            "100\n",
            "3000\n"
          ]
        }
      ]
    },
    {
      "cell_type": "code",
      "source": [],
      "metadata": {
        "id": "U4Fcm6jtWhrN"
      },
      "execution_count": null,
      "outputs": []
    }
  ]
}